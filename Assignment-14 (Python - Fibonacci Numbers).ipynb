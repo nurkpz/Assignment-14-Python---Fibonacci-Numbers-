{
 "cells": [
  {
   "cell_type": "code",
   "execution_count": null,
   "id": "563df0f6",
   "metadata": {},
   "outputs": [],
   "source": [
    "fibonacci = []\n",
    "for i in range(1,56) :\n",
    "    if i <= 1 :\n",
    "        fibonacci.append(i)\n",
    "        fibonacci.append(i)      \n",
    "    else :\n",
    "         fibonacci.append(fibonacci[-1] + fibonacci[-2])\n",
    "    if fibonacci[-1] == 55 :\n",
    "        print(fibonacci)\n",
    "        break"
   ]
  }
 ],
 "metadata": {
  "kernelspec": {
   "display_name": "Python 3 (ipykernel)",
   "language": "python",
   "name": "python3"
  },
  "language_info": {
   "codemirror_mode": {
    "name": "ipython",
    "version": 3
   },
   "file_extension": ".py",
   "mimetype": "text/x-python",
   "name": "python",
   "nbconvert_exporter": "python",
   "pygments_lexer": "ipython3",
   "version": "3.9.12"
  }
 },
 "nbformat": 4,
 "nbformat_minor": 5
}
